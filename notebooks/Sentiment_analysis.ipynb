{
 "cells": [
  {
   "cell_type": "markdown",
   "id": "681861b6",
   "metadata": {},
   "source": [
    "Imoprt"
   ]
  },
  {
   "cell_type": "code",
   "execution_count": 1,
   "id": "4fa0bc28",
   "metadata": {},
   "outputs": [],
   "source": [
    "import numpy as np\n",
    "import pandas as pd\n",
    "import matplotlib.pyplot as plt\n",
    "import seaborn as sns\n",
    "from textblob import TextBlob\n",
    "import sys\n",
    "from pathlib import Path"
   ]
  },
  {
   "cell_type": "code",
   "execution_count": 2,
   "id": "b4e0350b",
   "metadata": {},
   "outputs": [
    {
     "name": "stderr",
     "output_type": "stream",
     "text": [
      "[*********************100%***********************]  1 of 1 completed\n",
      "\n",
      "1 Failed download:\n",
      "['AAPL']: Timeout('Failed to perform, curl: (28) Operation timed out after 10004 milliseconds with 286252 bytes received. See https://curl.se/libcurl/c/libcurl-errors.html first for more details.')\n"
     ]
    }
   ],
   "source": [
    "import os\n",
    "\n",
    "# Path to the project root from the notebook\n",
    "project_root = os.path.dirname(os.getcwd())\n",
    "\n",
    "# Path to the 'data' folder at the root\n",
    "data_dir = os.path.join(project_root, 'data')\n",
    "\n",
    "# Make sure it exists\n",
    "os.makedirs(data_dir, exist_ok=True)\n",
    "\n",
    "# saving AAPL data\n",
    "import yfinance as yf\n",
    "\n",
    "ticker = 'AAPL'\n",
    "data = yf.download(ticker, auto_adjust=True)\n",
    "data.to_csv(os.path.join(data_dir, f'{ticker}.csv'))\n"
   ]
  },
  {
   "cell_type": "code",
   "execution_count": 3,
   "id": "59168b84",
   "metadata": {},
   "outputs": [],
   "source": [
    "sys.path.append(str(Path().resolve().parent))\n",
    "\n",
    "from src.Sentiment_analysis import load_stock_data, calculate_sentiment, aggregate_daily_sentiment\n",
    "from src.stock_analysis import load_stock_data, calculate_daily_returns\n",
    "from src.Correlation_analysis import merge_sentiment_and_returns, calculate_correlation"
   ]
  },
  {
   "cell_type": "markdown",
   "id": "45d82201",
   "metadata": {},
   "source": [
    "Load dataset"
   ]
  },
  {
   "cell_type": "code",
   "execution_count": 4,
   "id": "a875430e",
   "metadata": {},
   "outputs": [
    {
     "name": "stdout",
     "output_type": "stream",
     "text": [
      "YF.download() has changed argument auto_adjust default to True\n"
     ]
    },
    {
     "name": "stderr",
     "output_type": "stream",
     "text": [
      "Failed to get ticker 'DATA/RAW_ANALYST_RATINGS.CSV' reason: Expecting value: line 1 column 1 (char 0)\n",
      "[*********************100%***********************]  1 of 1 completed\n",
      "\n",
      "1 Failed download:\n",
      "['DATA/RAW_ANALYST_RATINGS.CSV']: HTTPError('HTTP Error 500: ')\n"
     ]
    },
    {
     "name": "stdout",
     "output_type": "stream",
     "text": [
      "Error loading data/raw_analyst_ratings.csv data: No data found for data/raw_analyst_ratings.csv\n"
     ]
    },
    {
     "name": "stderr",
     "output_type": "stream",
     "text": [
      "[*********************100%***********************]  1 of 1 completed\n"
     ]
    },
    {
     "name": "stdout",
     "output_type": "stream",
     "text": [
      "Error loading AAPL data: Cannot save file into a non-existent directory: 'data'\n"
     ]
    },
    {
     "name": "stderr",
     "output_type": "stream",
     "text": [
      "[*********************100%***********************]  1 of 1 completed"
     ]
    },
    {
     "name": "stdout",
     "output_type": "stream",
     "text": [
      "Error loading TSLA data: Cannot save file into a non-existent directory: 'data'\n"
     ]
    },
    {
     "name": "stderr",
     "output_type": "stream",
     "text": [
      "\n"
     ]
    }
   ],
   "source": [
    "# Load data\n",
    "news_df = load_stock_data('data/raw_analyst_ratings.csv')\n",
    "if news_df is not None:\n",
    "    print(news_df.head())\n",
    "\n",
    "# Load AAPL stock data\n",
    "stock_data = load_stock_data('AAPL')\n",
    "if stock_data is not None:\n",
    "    print(stock_data.head())\n",
    "\n",
    "# Load TSLA Stock Data\n",
    "tsla_data = load_stock_data('TSLA')\n",
    "if tsla_data is not None:\n",
    "    print(tsla_data.head())\n",
    "\n"
   ]
  },
  {
   "cell_type": "code",
   "execution_count": 10,
   "id": "d6cdb5e8",
   "metadata": {},
   "outputs": [],
   "source": [
    "# # Load data\n",
    "# news_df = load_stock_data('data/raw_analyst_ratings.csv')\n",
    "# if news_df is not None:\n",
    "#     print(news_df.head())\n",
    "\n",
    "# # Load AAPL stock data\n",
    "# stock_data = load_stock_data('AAPL')\n",
    "# if stock_data is not None:\n",
    "#     print(stock_data.head())\n",
    "\n",
    "\n",
    "# # Load TSLA stock data\n",
    "# tsla_data = load_stock_data('TSLA')\n",
    "# if tsla_data is not None:\n",
    "#     tsla_returns = calculate_daily_returns(tsla_data)\n",
    "#     tsla_returns['Stock'] = 'TSLA'\n",
    "#     tsla_merged = merge_sentiment_and_returns(daily_sentiment, tsla_returns)\n",
    "#     if tsla_merged is not None:\n",
    "#         print(tsla_merged.head())\n",
    "#         tsla_correlation = calculate_correlation(tsla_merged, save_path='reports/tsla_correlation_plot.png')\n",
    "#         print(f\"TSLA Correlation: {tsla_correlation}\")"
   ]
  },
  {
   "cell_type": "markdown",
   "id": "c9a00ba8",
   "metadata": {},
   "source": [
    "Calculate Sentiment"
   ]
  },
  {
   "cell_type": "code",
   "execution_count": 11,
   "id": "d918c793",
   "metadata": {},
   "outputs": [],
   "source": [
    "# Calculate sentiment \n",
    "if news_df is not None:\n",
    "    news_df = calculate_sentiment(news_df)\n",
    "    print(news_df[['headline', 'sentiment']].head())"
   ]
  },
  {
   "cell_type": "markdown",
   "id": "7ae7d431",
   "metadata": {},
   "source": [
    "Aggregate Daily Sentiment"
   ]
  },
  {
   "cell_type": "code",
   "execution_count": 12,
   "id": "bde4160b",
   "metadata": {},
   "outputs": [],
   "source": [
    "# Aggregate sentiment by date and stock\n",
    "if news_df is not None:\n",
    "    daily_sentiment = aggregate_daily_sentiment(news_df)\n",
    "    print(daily_sentiment.head())"
   ]
  },
  {
   "cell_type": "markdown",
   "id": "e7a15787",
   "metadata": {},
   "source": [
    "Calculate Daily returns"
   ]
  },
  {
   "cell_type": "code",
   "execution_count": 13,
   "id": "44657a8b",
   "metadata": {},
   "outputs": [],
   "source": [
    "# Calculate AAPL daily returns\n",
    "if stock_data is not None:\n",
    "    aapl_returns = calculate_daily_returns(stock_data)\n",
    "    print(aapl_returns.head())\n",
    "\n",
    "# Calculate TSLA Daily Returns\n",
    "if tsla_data is not None:\n",
    "    tsla_returns = calculate_daily_returns(tsla_data)\n",
    "    print(tsla_returns.head())"
   ]
  },
  {
   "cell_type": "markdown",
   "id": "c7668c14",
   "metadata": {},
   "source": [
    "Merge and Correlate"
   ]
  },
  {
   "cell_type": "code",
   "execution_count": null,
   "id": "82b98145",
   "metadata": {},
   "outputs": [
    {
     "ename": "NameError",
     "evalue": "name 'aapl_returns' is not defined",
     "output_type": "error",
     "traceback": [
      "\u001b[31m---------------------------------------------------------------------------\u001b[39m",
      "\u001b[31mNameError\u001b[39m                                 Traceback (most recent call last)",
      "\u001b[36mCell\u001b[39m\u001b[36m \u001b[39m\u001b[32mIn[15]\u001b[39m\u001b[32m, line 17\u001b[39m\n\u001b[32m      1\u001b[39m \u001b[38;5;66;03m# Merge sentiment and returns\u001b[39;00m\n\u001b[32m      2\u001b[39m \u001b[38;5;66;03m# if daily_sentiment is not None and returns_df is not None:\u001b[39;00m\n\u001b[32m      3\u001b[39m \u001b[38;5;66;03m#     # Add Stock column to returns_df for merging\u001b[39;00m\n\u001b[32m   (...)\u001b[39m\u001b[32m     15\u001b[39m \n\u001b[32m     16\u001b[39m \u001b[38;5;66;03m# Cell 5: AAPL Correlation\u001b[39;00m\n\u001b[32m---> \u001b[39m\u001b[32m17\u001b[39m \u001b[38;5;28;01mif\u001b[39;00m aggregate_daily_sentiment \u001b[38;5;129;01mis\u001b[39;00m \u001b[38;5;129;01mnot\u001b[39;00m \u001b[38;5;28;01mNone\u001b[39;00m \u001b[38;5;129;01mand\u001b[39;00m \u001b[43maapl_returns\u001b[49m \u001b[38;5;129;01mis\u001b[39;00m \u001b[38;5;129;01mnot\u001b[39;00m \u001b[38;5;28;01mNone\u001b[39;00m:\n\u001b[32m     18\u001b[39m     aapl_returns[\u001b[33m'\u001b[39m\u001b[33mStock\u001b[39m\u001b[33m'\u001b[39m] = \u001b[33m'\u001b[39m\u001b[33mAAPL\u001b[39m\u001b[33m'\u001b[39m\n\u001b[32m     19\u001b[39m     aapl_merged = merge_sentiment_and_returns(daily_sentiment, aapl_returns)\n",
      "\u001b[31mNameError\u001b[39m: name 'aapl_returns' is not defined"
     ]
    }
   ],
   "source": [
    "# Merge sentiment and returns\n",
    "# if daily_sentiment is not None and returns_df is not None:\n",
    "#     # Add Stock column to returns_df for merging\n",
    "#     returns_df['Stock'] = 'AAPL'\n",
    "#     merged_df = merge_sentiment_and_returns(daily_sentiment, returns_df)\n",
    "#     if merged_df is not None:\n",
    "#         print(merged_df.head())\n",
    "#         # Calculate correlation\n",
    "#         correlation = calculate_correlation(merged_df)\n",
    "#         print (f\"Correlation: {correlation}\")\n",
    "# else:\n",
    "#     print(\"daily_sentiment or returns_df is None, cannot merge.\")\n",
    "\n",
    "\n",
    "\n",
    "# Cell 5: AAPL Correlation\n",
    "if daily_sentiment is not None and aapl_returns is not None:\n",
    "    aapl_returns['Stock'] = 'AAPL'\n",
    "    aapl_merged = merge_sentiment_and_returns(daily_sentiment, aapl_returns)\n",
    "    if aapl_merged is not None:\n",
    "        print(aapl_merged.head())\n",
    "        aapl_correlation = calculate_correlation(aapl_merged, 'reports/aapl_correlation_plot.png')\n",
    "        print(f\"AAPL Correlation: {aapl_correlation}\")\n",
    "else:\n",
    "    print(\"AAPL: daily_sentiment or returns_df is None\")\n",
    "\n",
    "\n",
    "# Cell 8: TSLA Correlation\n",
    "if daily_sentiment is not None and tsla_returns is not None:\n",
    "    tsla_returns['Stock'] = 'TSLA'\n",
    "    tsla_merged = merge_sentiment_and_returns(daily_sentiment, tsla_returns)\n",
    "    if tsla_merged is not None:\n",
    "        print(tsla_merged.head())\n",
    "        tsla_correlation = calculate_correlation(tsla_merged, 'reports/tsla_correlation_plot.png')\n",
    "        print(f\"TSLA Correlation: {tsla_correlation}\")\n",
    "else:\n",
    "    print(\"TSLA: daily_sentiment or returns_df is None\")"
   ]
  }
 ],
 "metadata": {
  "kernelspec": {
   "display_name": ".venv",
   "language": "python",
   "name": "python3"
  },
  "language_info": {
   "codemirror_mode": {
    "name": "ipython",
    "version": 3
   },
   "file_extension": ".py",
   "mimetype": "text/x-python",
   "name": "python",
   "nbconvert_exporter": "python",
   "pygments_lexer": "ipython3",
   "version": "3.13.1"
  }
 },
 "nbformat": 4,
 "nbformat_minor": 5
}
