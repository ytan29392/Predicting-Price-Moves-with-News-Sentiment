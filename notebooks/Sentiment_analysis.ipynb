{
 "cells": [
  {
   "cell_type": "markdown",
   "id": "91847f3c",
   "metadata": {},
   "source": [
    "Import"
   ]
  },
  {
   "cell_type": "code",
   "execution_count": null,
   "id": "5739b80d",
   "metadata": {},
   "outputs": [],
   "source": [
    "import pandas as pd\n",
    "import os\n",
    "from pathlib import Path\n",
    "import sys\n",
    "\n",
    "sys.path.append(str(Path().resolve().parent))\n",
    "\n",
    "from src.Sentiment_analysis import calculate_sentiment, aggregate_daily_sentiment\n",
    "from src.stock_analysis import calculate_daily_returns, load_stock_data_from_csv\n",
    "from src.Correlation_analysis import merge_sentiment_and_returns, calculate_correlation"
   ]
  },
  {
   "cell_type": "markdown",
   "id": "1792bc1a",
   "metadata": {},
   "source": [
    "Load Data"
   ]
  },
  {
   "cell_type": "code",
   "execution_count": null,
   "id": "ef92340b",
   "metadata": {},
   "outputs": [],
   "source": [
    "# Load and process news\n",
    "news_df = pd.read_csv('../data/raw_analyst_ratings.csv')\n",
    "news_df['stock'] = news_df['stock'].str.upper()\n",
    "news_df = calculate_sentiment(news_df)\n",
    "daily_sentiment = aggregate_daily_sentiment(news_df)\n",
    "\n",
    "# Loop through tickers\n",
    "tickers = ['META', 'TSLA', 'AMZN', 'GOOG', 'MSFT', 'NVDA']\n",
    "\n",
    "for ticker in tickers:\n",
    "    stock_df = load_stock_data_from_csv(ticker)\n",
    "    if stock_df is not None:\n",
    "        returns = calculate_daily_returns(stock_df)\n",
    "        returns['Stock'] = ticker\n",
    "        merged = merge_sentiment_and_returns(daily_sentiment, returns)\n",
    "        if merged is not None:\n",
    "            corr = calculate_correlation(merged, save_path=f'reports/{ticker}_correlation.png')\n",
    "            print(f\"{ticker} correlation: {corr:.4f}\")\n"
   ]
  }
 ],
 "metadata": {
  "kernelspec": {
   "display_name": ".venv",
   "language": "python",
   "name": "python3"
  },
  "language_info": {
   "codemirror_mode": {
    "name": "ipython",
    "version": 3
   },
   "file_extension": ".py",
   "mimetype": "text/x-python",
   "name": "python",
   "nbconvert_exporter": "python",
   "pygments_lexer": "ipython3",
   "version": "3.13.1"
  }
 },
 "nbformat": 4,
 "nbformat_minor": 5
}
