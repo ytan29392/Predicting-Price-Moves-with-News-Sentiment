{
 "cells": [
  {
   "cell_type": "markdown",
   "id": "681861b6",
   "metadata": {},
   "source": [
    "Imoprt"
   ]
  },
  {
   "cell_type": "code",
   "execution_count": 14,
   "id": "4fa0bc28",
   "metadata": {},
   "outputs": [],
   "source": [
    "import numpy as np\n",
    "import pandas as pd\n",
    "import matplotlib.pyplot as plt\n",
    "import seaborn as sns\n",
    "from textblob import TextBlob\n",
    "import sys\n",
    "from pathlib import Path"
   ]
  },
  {
   "cell_type": "code",
   "execution_count": 35,
   "id": "b4e0350b",
   "metadata": {},
   "outputs": [
    {
     "name": "stderr",
     "output_type": "stream",
     "text": [
      "[*********************100%***********************]  1 of 1 completed\n"
     ]
    }
   ],
   "source": [
    "import os\n",
    "\n",
    "# Path to the project root from the notebook\n",
    "project_root = os.path.dirname(os.getcwd())\n",
    "\n",
    "# Path to the 'data' folder at the root\n",
    "data_dir = os.path.join(project_root, 'data')\n",
    "\n",
    "# Make sure it exists\n",
    "os.makedirs(data_dir, exist_ok=True)\n",
    "\n",
    "# ✅ Example: saving AAPL data\n",
    "import yfinance as yf\n",
    "\n",
    "ticker = 'AAPL'\n",
    "data = yf.download(ticker, auto_adjust=True)\n",
    "data.to_csv(os.path.join(data_dir, f'{ticker}.csv'))\n"
   ]
  },
  {
   "cell_type": "code",
   "execution_count": 36,
   "id": "59168b84",
   "metadata": {},
   "outputs": [],
   "source": [
    "# sys.path.append(str(Path().resolve().parent))\n",
    "\n",
    "from src.Sentiment_analysis import load_news_data, calculate_sentiment, aggregate_daily_sentiment\n",
    "from src.stock_analysis import load_stock_data\n",
    "# calculate_daily_returns\n",
    "from src.Correlation_analysis import merge_sentiment_and_returns, calculate_correlation"
   ]
  },
  {
   "cell_type": "markdown",
   "id": "45d82201",
   "metadata": {},
   "source": [
    "Load dataset"
   ]
  },
  {
   "cell_type": "code",
   "execution_count": 37,
   "id": "d6cdb5e8",
   "metadata": {},
   "outputs": [
    {
     "name": "stderr",
     "output_type": "stream",
     "text": [
      "[*********************100%***********************]  1 of 1 completed"
     ]
    },
    {
     "name": "stdout",
     "output_type": "stream",
     "text": [
      "Error loading news data: [Errno 2] No such file or directory: 'data/fnspid.csv'\n",
      "Error loading AAPL data: Cannot save file into a non-existent directory: 'data'\n"
     ]
    },
    {
     "name": "stderr",
     "output_type": "stream",
     "text": [
      "\n"
     ]
    }
   ],
   "source": [
    "# Load FNSPID news data\n",
    "news_df = load_news_data('data/fnspid.csv')\n",
    "if news_df is not None:\n",
    "    print(news_df.head())\n",
    "\n",
    "# Load AAPL stock data\n",
    "stock_data = load_stock_data('AAPL')\n",
    "if stock_data is not None:\n",
    "    print(stock_data.head())"
   ]
  },
  {
   "cell_type": "markdown",
   "id": "c9a00ba8",
   "metadata": {},
   "source": [
    "Calculate Sentiment"
   ]
  },
  {
   "cell_type": "code",
   "execution_count": 38,
   "id": "d918c793",
   "metadata": {},
   "outputs": [],
   "source": [
    "# Calculate sentiment scores\n",
    "if news_df is not None:\n",
    "    news_df = calculate_sentiment(news_df)\n",
    "    print(news_df[['headline', 'sentiment']].head())"
   ]
  },
  {
   "cell_type": "markdown",
   "id": "7ae7d431",
   "metadata": {},
   "source": [
    "Aggregate Daily Sentiment"
   ]
  },
  {
   "cell_type": "code",
   "execution_count": 39,
   "id": "bde4160b",
   "metadata": {},
   "outputs": [],
   "source": [
    "# Aggregate sentiment by date and stock\n",
    "if news_df is not None:\n",
    "    daily_sentiment = aggregate_daily_sentiment(news_df)\n",
    "    print(daily_sentiment.head())"
   ]
  },
  {
   "cell_type": "markdown",
   "id": "e7a15787",
   "metadata": {},
   "source": [
    "Calculate Daily returns"
   ]
  },
  {
   "cell_type": "code",
   "execution_count": 33,
   "id": "44657a8b",
   "metadata": {},
   "outputs": [],
   "source": [
    "# Calculate daily returns\n",
    "if stock_data is not None:\n",
    "    returns_df = calculate_daily_returns(stock_data)\n",
    "    print(returns_df.head())"
   ]
  },
  {
   "cell_type": "markdown",
   "id": "c7668c14",
   "metadata": {},
   "source": [
    "Merge and Correlate"
   ]
  },
  {
   "cell_type": "code",
   "execution_count": 43,
   "id": "82b98145",
   "metadata": {},
   "outputs": [
    {
     "ename": "NameError",
     "evalue": "name 'daily_sentiment' is not defined",
     "output_type": "error",
     "traceback": [
      "\u001b[31m---------------------------------------------------------------------------\u001b[39m",
      "\u001b[31mNameError\u001b[39m                                 Traceback (most recent call last)",
      "\u001b[36mCell\u001b[39m\u001b[36m \u001b[39m\u001b[32mIn[43]\u001b[39m\u001b[32m, line 2\u001b[39m\n\u001b[32m      1\u001b[39m \u001b[38;5;66;03m# Merge sentiment and returns\u001b[39;00m\n\u001b[32m----> \u001b[39m\u001b[32m2\u001b[39m \u001b[38;5;28;01mif\u001b[39;00m \u001b[43mdaily_sentiment\u001b[49m \u001b[38;5;129;01mis\u001b[39;00m \u001b[38;5;129;01mnot\u001b[39;00m \u001b[38;5;28;01mNone\u001b[39;00m \u001b[38;5;129;01mand\u001b[39;00m returns_df \u001b[38;5;129;01mis\u001b[39;00m \u001b[38;5;129;01mnot\u001b[39;00m \u001b[38;5;28;01mNone\u001b[39;00m:\n\u001b[32m      3\u001b[39m     \u001b[38;5;66;03m# Add Stock column to returns_df for merging\u001b[39;00m\n\u001b[32m      4\u001b[39m     returns_df[\u001b[33m'\u001b[39m\u001b[33mStock\u001b[39m\u001b[33m'\u001b[39m] = \u001b[33m'\u001b[39m\u001b[33mAAPL\u001b[39m\u001b[33m'\u001b[39m\n\u001b[32m      5\u001b[39m     merged_df = merge_sentiment_and_returns(daily_sentiment, returns_df)\n",
      "\u001b[31mNameError\u001b[39m: name 'daily_sentiment' is not defined"
     ]
    }
   ],
   "source": [
    "# Merge sentiment and returns\n",
    "if daily_sentiment is not None and returns_df is not None:\n",
    "    # Add Stock column to returns_df for merging\n",
    "    returns_df['Stock'] = 'AAPL'\n",
    "    merged_df = merge_sentiment_and_returns(daily_sentiment, returns_df)\n",
    "    if merged_df is not None:\n",
    "        print(merged_df.head())\n",
    "        # Calculate correlation\n",
    "        correlation = calculate_correlation(merged_df)\n",
    "        print (f\"Correlation: {correlation}\")\n",
    "else:\n",
    "    print(\"daily_sentiment or returns_df is None, cannot merge.\")"
   ]
  }
 ],
 "metadata": {
  "kernelspec": {
   "display_name": ".venv",
   "language": "python",
   "name": "python3"
  },
  "language_info": {
   "codemirror_mode": {
    "name": "ipython",
    "version": 3
   },
   "file_extension": ".py",
   "mimetype": "text/x-python",
   "name": "python",
   "nbconvert_exporter": "python",
   "pygments_lexer": "ipython3",
   "version": "3.13.1"
  }
 },
 "nbformat": 4,
 "nbformat_minor": 5
}
