{
 "cells": [
  {
   "cell_type": "markdown",
   "id": "2da7606e",
   "metadata": {},
   "source": [
    "Import Lib"
   ]
  },
  {
   "cell_type": "code",
   "execution_count": null,
   "id": "04f002d9",
   "metadata": {},
   "outputs": [],
   "source": [
    "import pandas as pd\n",
    "from sklearn.feature_extraction.text import CountVectorizer"
   ]
  },
  {
   "cell_type": "markdown",
   "id": "0561e51b",
   "metadata": {},
   "source": [
    "Load Data"
   ]
  },
  {
   "cell_type": "code",
   "execution_count": null,
   "id": "1da5f4fe",
   "metadata": {},
   "outputs": [],
   "source": [
    "df= pd.read_csv()\n",
    "df.head()"
   ]
  },
  {
   "cell_type": "markdown",
   "id": "8e1f8684",
   "metadata": {},
   "source": [
    "Descriptive Statistics"
   ]
  },
  {
   "cell_type": "markdown",
   "id": "a7bde0c7",
   "metadata": {},
   "source": [
    "# Headline lengths\n",
    "df['headline_length'] = df['headline'].str.len()\n",
    "df['headline_length'].describe()\n",
    "\n",
    "# Articles per publisher\n",
    "df['publisher'].value_counts().head()\n",
    "\n",
    "# Publication trends\n",
    "df['date'] = pd.to_datetime(df['date'])\n",
    "df['date'].dt.date.value_counts().sort_index().plot(figsize=(15,5), title=\"News Count Over Time\")"
   ]
  },
  {
   "cell_type": "markdown",
   "id": "b74343e1",
   "metadata": {},
   "source": [
    "Text Analysis\n"
   ]
  },
  {
   "cell_type": "code",
   "execution_count": null,
   "id": "8644e9b7",
   "metadata": {},
   "outputs": [],
   "source": [
    "vectorizer = CountVectorizer(stop_words='english', max_features=20)\n",
    "X = vectorizer.fit_transform(df['headline'].dropna())\n",
    "print(vectorizer.get_feature_names_out())"
   ]
  },
  {
   "cell_type": "markdown",
   "id": "9752d3c4",
   "metadata": {},
   "source": [
    "Time Series Analysis"
   ]
  },
  {
   "cell_type": "code",
   "execution_count": null,
   "id": "6a8e0fc8",
   "metadata": {},
   "outputs": [],
   "source": [
    "# Hour of publishing\n",
    "df['hour'] = df['date'].dt.hour\n",
    "df['hour'].value_counts().sort_index().plot(kind='bar', title='Articles by Hour')"
   ]
  },
  {
   "cell_type": "markdown",
   "id": "2e8726bc",
   "metadata": {},
   "source": [
    "Publisher Analysis"
   ]
  },
  {
   "cell_type": "code",
   "execution_count": null,
   "id": "d30b6cde",
   "metadata": {},
   "outputs": [],
   "source": [
    "df['domain'] = df['publisher'].str.extract(r'@(.+)$')\n",
    "df['domain'].value_counts().head()"
   ]
  }
 ],
 "metadata": {
  "kernelspec": {
   "display_name": ".venv",
   "language": "python",
   "name": "python3"
  },
  "language_info": {
   "name": "python",
   "version": "3.13.1"
  }
 },
 "nbformat": 4,
 "nbformat_minor": 5
}
