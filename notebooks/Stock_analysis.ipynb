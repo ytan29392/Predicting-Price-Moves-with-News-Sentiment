{
 "cells": [
  {
   "cell_type": "markdown",
   "id": "61bb99cc",
   "metadata": {},
   "source": [
    "Import"
   ]
  },
  {
   "cell_type": "code",
   "execution_count": 2,
   "id": "8e418f64",
   "metadata": {},
   "outputs": [],
   "source": [
    "import pandas as pd\n",
    "import matplotlib as plt\n",
    "import seaborn as sns\n",
    "from collections import Counter\n",
    "import nltk \n",
    "from nltk.tokenize import word_tokenize\n",
    "from sklearn.feature_extraction.text import CountVectorizer\n",
    "import sys\n",
    "from pathlib import Path"
   ]
  },
  {
   "cell_type": "markdown",
   "id": "3fb05624",
   "metadata": {},
   "source": [
    "Import and load Data"
   ]
  },
  {
   "cell_type": "code",
   "execution_count": 4,
   "id": "0592a062",
   "metadata": {},
   "outputs": [
    {
     "ename": "NameError",
     "evalue": "name '__file__' is not defined",
     "output_type": "error",
     "traceback": [
      "\u001b[31m---------------------------------------------------------------------------\u001b[39m",
      "\u001b[31mNameError\u001b[39m                                 Traceback (most recent call last)",
      "\u001b[36mCell\u001b[39m\u001b[36m \u001b[39m\u001b[32mIn[4]\u001b[39m\u001b[32m, line 3\u001b[39m\n\u001b[32m      1\u001b[39m \u001b[38;5;28;01mimport\u001b[39;00m\u001b[38;5;250m \u001b[39m\u001b[34;01mos\u001b[39;00m\n\u001b[32m----> \u001b[39m\u001b[32m3\u001b[39m data_dir = os.path.join(os.path.dirname(\u001b[34;43m__file__\u001b[39;49m), \u001b[33m'\u001b[39m\u001b[33mdata\u001b[39m\u001b[33m'\u001b[39m)\n\u001b[32m      4\u001b[39m os.makedirs(data_dir, exist_ok=\u001b[38;5;28;01mTrue\u001b[39;00m)\n\u001b[32m      5\u001b[39m data.to_csv(os.path.join(data_dir, \u001b[33m'\u001b[39m\u001b[33mAAPL.csv\u001b[39m\u001b[33m'\u001b[39m))\n",
      "\u001b[31mNameError\u001b[39m: name '__file__' is not defined"
     ]
    }
   ],
   "source": [
    "import os\n",
    "\n",
    "data_dir = os.path.join(os.path.dirname(__file__), 'data')\n",
    "os.makedirs(data_dir, exist_ok=True)\n",
    "data.to_csv(os.path.join(data_dir, 'AAPL.csv'))\n",
    "\n",
    "sys.path.append(str(Path().resolve().parent))\n",
    "\n",
    "from src.stock_analysis import load_stock_data, calculate_indicators, plot_price_and_ma, plot_rsi, plot_macd\n",
    "\n",
    "stock_data = load_stock_data('AAPL')\n",
    "if stock_data is not None:\n",
    "    print(stock_data.head())"
   ]
  },
  {
   "cell_type": "markdown",
   "id": "2fd91a2e",
   "metadata": {},
   "source": [
    "Calculate indicators"
   ]
  },
  {
   "cell_type": "code",
   "execution_count": 5,
   "id": "e32d92ae",
   "metadata": {},
   "outputs": [],
   "source": [
    "if stock_data is not None:\n",
    "    stock_data = calculate_indicators(stock_data)\n",
    "    print(stock_data[['Close', 'MA', 'RSI', 'MACD', 'MACD_Signal', 'MACD_Hist']].tail())"
   ]
  },
  {
   "cell_type": "markdown",
   "id": "5a2d3f6d",
   "metadata": {},
   "source": [
    "Plot price and MA"
   ]
  },
  {
   "cell_type": "code",
   "execution_count": 6,
   "id": "04637261",
   "metadata": {},
   "outputs": [],
   "source": [
    "if stock_data is not None:\n",
    "    plot_price_and_ma(stock_data, ticker='AAPL')"
   ]
  },
  {
   "cell_type": "markdown",
   "id": "a2058595",
   "metadata": {},
   "source": [
    "Plot RSI"
   ]
  },
  {
   "cell_type": "code",
   "execution_count": 7,
   "id": "48550218",
   "metadata": {},
   "outputs": [],
   "source": [
    "if stock_data is not None:\n",
    "    plot_rsi(stock_data, ticker='AAPL')"
   ]
  },
  {
   "cell_type": "markdown",
   "id": "f635e22d",
   "metadata": {},
   "source": [
    "Plot MACD"
   ]
  },
  {
   "cell_type": "code",
   "execution_count": 8,
   "id": "65440cdb",
   "metadata": {},
   "outputs": [],
   "source": [
    "if stock_data is not None:\n",
    "    plot_macd(stock_data, ticker='AAPL')"
   ]
  }
 ],
 "metadata": {
  "kernelspec": {
   "display_name": ".venv",
   "language": "python",
   "name": "python3"
  },
  "language_info": {
   "codemirror_mode": {
    "name": "ipython",
    "version": 3
   },
   "file_extension": ".py",
   "mimetype": "text/x-python",
   "name": "python",
   "nbconvert_exporter": "python",
   "pygments_lexer": "ipython3",
   "version": "3.13.1"
  }
 },
 "nbformat": 4,
 "nbformat_minor": 5
}
