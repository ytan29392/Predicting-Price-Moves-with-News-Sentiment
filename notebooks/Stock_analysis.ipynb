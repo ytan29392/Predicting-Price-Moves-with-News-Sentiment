{
 "cells": [
  {
   "cell_type": "markdown",
   "id": "61bb99cc",
   "metadata": {},
   "source": [
    "Import"
   ]
  },
  {
   "cell_type": "code",
   "execution_count": 3,
   "id": "8e418f64",
   "metadata": {},
   "outputs": [],
   "source": [
    "import pandas as pd\n",
    "import matplotlib as plt\n",
    "import seaborn as sns\n",
    "from collections import Counter\n",
    "import nltk \n",
    "from nltk.tokenize import word_tokenize\n",
    "from sklearn.feature_extraction.text import CountVectorizer\n",
    "import sys\n",
    "from pathlib import Path"
   ]
  },
  {
   "cell_type": "markdown",
   "id": "3fb05624",
   "metadata": {},
   "source": [
    "Import and load Data"
   ]
  },
  {
   "cell_type": "code",
   "execution_count": 4,
   "id": "0592a062",
   "metadata": {},
   "outputs": [
    {
     "name": "stdout",
     "output_type": "stream",
     "text": [
      "YF.download() has changed argument auto_adjust default to True\n"
     ]
    },
    {
     "name": "stderr",
     "output_type": "stream",
     "text": [
      "[*********************100%***********************]  1 of 1 completed"
     ]
    },
    {
     "name": "stdout",
     "output_type": "stream",
     "text": [
      "Error loading AAPL data: Cannot save file into a non-existent directory: 'data'\n"
     ]
    },
    {
     "name": "stderr",
     "output_type": "stream",
     "text": [
      "\n"
     ]
    }
   ],
   "source": [
    "sys.path.append(str(Path().resolve().parent))\n",
    "\n",
    "from src.stock_analysis import load_stock_data, calculate_indicators, plot_price_and_ma, plot_rsi, plot_macd\n",
    "\n",
    "\n",
    "stock_data = load_stock_data('AAPL')\n",
    "if stock_data is not None:\n",
    "    print(stock_data.head())"
   ]
  },
  {
   "cell_type": "markdown",
   "id": "2fd91a2e",
   "metadata": {},
   "source": [
    "Calculate indicators"
   ]
  },
  {
   "cell_type": "code",
   "execution_count": 5,
   "id": "e32d92ae",
   "metadata": {},
   "outputs": [],
   "source": [
    "if stock_data is not None:\n",
    "    stock_data = calculate_indicators(stock_data)\n",
    "    print(stock_data[['Close', 'MA', 'RSI', 'MACD', 'MACD_Signal', 'MACD_Hist']].tail())"
   ]
  },
  {
   "cell_type": "markdown",
   "id": "5a2d3f6d",
   "metadata": {},
   "source": [
    "Plot price and MA"
   ]
  },
  {
   "cell_type": "code",
   "execution_count": 6,
   "id": "04637261",
   "metadata": {},
   "outputs": [],
   "source": [
    "if stock_data is not None:\n",
    "    plot_price_and_ma(stock_data, ticker='AAPL')"
   ]
  },
  {
   "cell_type": "markdown",
   "id": "a2058595",
   "metadata": {},
   "source": [
    "Plot RSI"
   ]
  },
  {
   "cell_type": "code",
   "execution_count": 7,
   "id": "48550218",
   "metadata": {},
   "outputs": [],
   "source": [
    "if stock_data is not None:\n",
    "    plot_rsi(stock_data, ticker='AAPL')"
   ]
  },
  {
   "cell_type": "markdown",
   "id": "f635e22d",
   "metadata": {},
   "source": [
    "Plot MACD"
   ]
  },
  {
   "cell_type": "code",
   "execution_count": 8,
   "id": "65440cdb",
   "metadata": {},
   "outputs": [],
   "source": [
    "if stock_data is not None:\n",
    "    plot_macd(stock_data, ticker='AAPL')"
   ]
  }
 ],
 "metadata": {
  "kernelspec": {
   "display_name": ".venv",
   "language": "python",
   "name": "python3"
  },
  "language_info": {
   "codemirror_mode": {
    "name": "ipython",
    "version": 3
   },
   "file_extension": ".py",
   "mimetype": "text/x-python",
   "name": "python",
   "nbconvert_exporter": "python",
   "pygments_lexer": "ipython3",
   "version": "3.13.1"
  }
 },
 "nbformat": 4,
 "nbformat_minor": 5
}
