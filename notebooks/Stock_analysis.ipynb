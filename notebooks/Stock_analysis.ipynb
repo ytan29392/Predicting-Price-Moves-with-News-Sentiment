{
 "cells": [
  {
   "cell_type": "markdown",
   "id": "9d99adf8",
   "metadata": {},
   "source": [
    "Import"
   ]
  },
  {
   "cell_type": "code",
   "execution_count": 24,
   "id": "8e418f64",
   "metadata": {},
   "outputs": [],
   "source": [
    "import pandas as pd\n",
    "import matplotlib.pyplot as plt\n",
    "from pathlib import Path\n",
    "import sys"
   ]
  },
  {
   "cell_type": "markdown",
   "id": "3799cafb",
   "metadata": {},
   "source": [
    "Load Data"
   ]
  },
  {
   "cell_type": "code",
   "execution_count": 25,
   "id": "0592a062",
   "metadata": {},
   "outputs": [
    {
     "name": "stderr",
     "output_type": "stream",
     "text": [
      "[*********************100%***********************]  1 of 1 completed"
     ]
    },
    {
     "name": "stdout",
     "output_type": "stream",
     "text": [
      "Error loading AAPL data: Cannot save file into a non-existent directory: 'data'\n"
     ]
    },
    {
     "name": "stderr",
     "output_type": "stream",
     "text": [
      "\n"
     ]
    }
   ],
   "source": [
    "sys.path.append(str(Path().resolve().parent))\n",
    "\n",
    "from src.stock_analysis import load_stock_data, calculate_indicators, plot_price_and_ma, plot_rsi, plot_macd\n",
    "\n",
    "# Load data\n",
    "stock_data = load_stock_data('AAPL')"
   ]
  },
  {
   "cell_type": "markdown",
   "id": "9522ec47",
   "metadata": {},
   "source": [
    "Calculate technical indicators"
   ]
  },
  {
   "cell_type": "code",
   "execution_count": 26,
   "id": "c9daae67",
   "metadata": {},
   "outputs": [],
   "source": [
    "if stock_data is not None:\n",
    "    stock_data = calculate_indicators(stock_data)\n",
    "    print(stock_data[['Close', 'MA', 'RSI', 'MACD', 'MACD_Signal', 'MACD_Hist']].tail())"
   ]
  },
  {
   "cell_type": "markdown",
   "id": "1f3d1a45",
   "metadata": {},
   "source": [
    "Plot price and MA"
   ]
  },
  {
   "cell_type": "code",
   "execution_count": 27,
   "id": "701f4e84",
   "metadata": {},
   "outputs": [],
   "source": [
    "if stock_data is not None:\n",
    "    plot_price_and_ma(stock_data, ticker='AAPL')"
   ]
  },
  {
   "cell_type": "markdown",
   "id": "d8d47c5d",
   "metadata": {},
   "source": [
    "Plot RSI"
   ]
  },
  {
   "cell_type": "code",
   "execution_count": 28,
   "id": "18948296",
   "metadata": {},
   "outputs": [],
   "source": [
    "if stock_data is not None:\n",
    "    plot_rsi(stock_data, ticker='AAPL')"
   ]
  },
  {
   "cell_type": "markdown",
   "id": "36a46525",
   "metadata": {},
   "source": [
    "Plot MACD"
   ]
  },
  {
   "cell_type": "code",
   "execution_count": 29,
   "id": "7b40a3a7",
   "metadata": {},
   "outputs": [],
   "source": [
    "if stock_data is not None:\n",
    "    plot_macd(stock_data, ticker='AAPL')\n"
   ]
  }
 ],
 "metadata": {
  "kernelspec": {
   "display_name": ".venv",
   "language": "python",
   "name": "python3"
  },
  "language_info": {
   "codemirror_mode": {
    "name": "ipython",
    "version": 3
   },
   "file_extension": ".py",
   "mimetype": "text/x-python",
   "name": "python",
   "nbconvert_exporter": "python",
   "pygments_lexer": "ipython3",
   "version": "3.13.1"
  }
 },
 "nbformat": 4,
 "nbformat_minor": 5
}
